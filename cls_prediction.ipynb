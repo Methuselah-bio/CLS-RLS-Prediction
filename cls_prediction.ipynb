{
 "cells": [
  {
   "cell_type": "markdown",
   "metadata": {},
   "source": [
    "# Chronological Lifespan Prediction\n",
    "\n",
    "This example notebook demonstrates how to run the Methuselah pipeline end to end on a real chronological lifespan (CLS) dataset.  We download gene‑expression data from GEO, preprocess it into a feature matrix, train a survival model and interpret the results.  The notebook assumes that the package has been installed in editable mode (`pip install -e .`) and that optional dependencies such as `GEOparse`, `lifelines` and `scikit-survival` are available.\n"
   ]
  },
  {
   "cell_type": "code",
   "execution_count": null,
   "metadata": {},
   "outputs": [],
   "source": [
    "# Configuration\n",
    "import yaml\n",
    "from pathlib import Path\n",
    "from methuselah_prediction import prepare_data, train, fetch_biodata\n",
    "\n",
    "# Define a simple configuration for CLS survival prediction\n",
    "config = {\n",
    "    'seed': 42,\n",
    "    'paths': {\n",
    "        'raw_dir': 'data/raw',\n",
    "        'processed': 'data/processed/cls_processed.csv',\n",
    "        'results': 'results/',\n",
    "    },\n",
    "    'task': {\n",
    "        'data_type': 'geo',\n",
    "        'geo_accession': 'GSE100166',\n",
    "        'target': 'survival_label',\n",
    "        'target_time': 'lifespan',\n",
    "        'target_event': 'event',\n",
    "        'problem_type': 'survival',\n",
    "        'preprocessing': {\n",
    "            'batch_correction': False,\n",
    "            'variance_stabilization': False,\n",
    "            'imputation': False,\n",
    "            'dimensionality_reduction': [],\n",
    "            'augmentation': {\n",
    "                'method': 'none'\n",
    "            }\n",
    "        },\n",
    "    },\n",
    "    'split': {\n",
    "        'test_size': 0.2,\n",
    "        'val_size': 0.2\n",
    "    },\n",
    "    'model': {\n",
    "        'name': 'cox',\n",
    "        'params': {}\n",
    "    }\n",
    "}\n",
    "\n",
    "# Save configuration to a temporary YAML file\n",
    "config_path = Path('tmp_config.yaml')\n",
    "with open(config_path, 'w') as f:\n",
    "    yaml.dump(config, f)\n",
    "\n",
    "# Download GEO data\n",
    "fetch_biodata.main = None  # ensure we use the CLI if present\n",
    "!python -m methuselah_prediction.fetch_biodata --accession GSE100166 --output data/raw/gse100166.csv\n",
    "\n",
    "# Prepare data\n",
    "!python -m methuselah_prediction.prepare_data --config tmp_config.yaml\n",
    "\n",
    "# Train survival model\n",
    "!python -m methuselah_prediction.train --config tmp_config.yaml\n",
    "\n",
    "# Display results\n",
    "import json\n",
    "with open('results/metrics.json') as f:\n",
    "    metrics = json.load(f)\n",
    "metrics\n"
   ]
  }
 ],
 "metadata": {
  "kernelspec": {
   "display_name": "Python 3",\n",
   "language": "python",\n",
   "name": "python3"\n"
  },
  "language_info": {
   "name": "python",\n",
   "version": "3.10"\n"
  }
 },
 "nbformat": 4,
 "nbformat_minor": 5
}